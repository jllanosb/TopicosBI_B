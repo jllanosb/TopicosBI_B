{
 "cells": [
  {
   "cell_type": "markdown",
   "id": "8f46551c",
   "metadata": {},
   "source": [
    "# Summary\n",
    "\n",
    "1. Range\n",
    "2. List\n",
    "3. Instrucciones\n",
    "4. Fechas"
   ]
  },
  {
   "cell_type": "markdown",
   "id": "9b28b7f5",
   "metadata": {},
   "source": [
    "## 1. Range\n",
    "Para generar una secuencia de numeros"
   ]
  },
  {
   "cell_type": "code",
   "execution_count": null,
   "id": "97a3f03b",
   "metadata": {},
   "outputs": [
    {
     "data": {
      "text/plain": [
       "[0, 1, 2, 3, 4, 5, 6, 7, 8, 9]"
      ]
     },
     "execution_count": 1,
     "metadata": {},
     "output_type": "execute_result"
    }
   ],
   "source": [
    "#Muestra lista numeros 0 al 10\n",
    "list(range(10))"
   ]
  },
  {
   "cell_type": "code",
   "execution_count": 2,
   "id": "86a4ce1b",
   "metadata": {},
   "outputs": [
    {
     "data": {
      "text/plain": [
       "[4, 5, 6, 7, 8, 9, 10, 11, 12, 13, 14]"
      ]
     },
     "execution_count": 2,
     "metadata": {},
     "output_type": "execute_result"
    }
   ],
   "source": [
    "# Muestra un lista entre parametros\n",
    "list(range(4,15))"
   ]
  },
  {
   "cell_type": "code",
   "execution_count": 3,
   "id": "e11eb7ba",
   "metadata": {},
   "outputs": [
    {
     "data": {
      "text/plain": [
       "[1, 3, 5, 7, 9, 11, 13]"
      ]
     },
     "execution_count": 3,
     "metadata": {},
     "output_type": "execute_result"
    }
   ],
   "source": [
    "# Inicia 1 hasta 15 y incrementa en 2\n",
    "list(range(1, 15, 2))"
   ]
  },
  {
   "cell_type": "code",
   "execution_count": 4,
   "id": "0fb29383",
   "metadata": {},
   "outputs": [
    {
     "name": "stdout",
     "output_type": "stream",
     "text": [
      "0\n",
      "1\n",
      "2\n",
      "3\n",
      "4\n",
      "5\n",
      "6\n",
      "7\n",
      "8\n"
     ]
    }
   ],
   "source": [
    "for i in range(9):\n",
    "    print(i)"
   ]
  },
  {
   "cell_type": "markdown",
   "id": "6e5a4fce",
   "metadata": {},
   "source": [
    "## 2. List Comprenhension\n",
    "Permite crear un lista de Python basado en una sola linea"
   ]
  },
  {
   "cell_type": "code",
   "execution_count": 6,
   "id": "c119613d",
   "metadata": {},
   "outputs": [
    {
     "data": {
      "text/plain": [
       "[0, 1, 2, 3, 4, 5, 6, 7, 8]"
      ]
     },
     "execution_count": 6,
     "metadata": {},
     "output_type": "execute_result"
    }
   ],
   "source": [
    "[i for i in range (9)]"
   ]
  },
  {
   "cell_type": "code",
   "execution_count": 8,
   "id": "9f174ab4",
   "metadata": {},
   "outputs": [
    {
     "data": {
      "text/plain": [
       "['0', '1', '2', '3', '4', '5', '6', '7', '8']"
      ]
     },
     "execution_count": 8,
     "metadata": {},
     "output_type": "execute_result"
    }
   ],
   "source": [
    "[str(i) for i in range (9)]"
   ]
  },
  {
   "cell_type": "code",
   "execution_count": null,
   "id": "ec6b43c8",
   "metadata": {},
   "outputs": [
    {
     "data": {
      "text/plain": [
       "['0', '2', '4', '6', '8']"
      ]
     },
     "execution_count": 9,
     "metadata": {},
     "output_type": "execute_result"
    }
   ],
   "source": [
    "[str(i) for i in range (9) if i % 2==0]"
   ]
  },
  {
   "cell_type": "markdown",
   "id": "ab743e17",
   "metadata": {},
   "source": [
    "## 3. Instrucciones\n",
    "Pass, Continue y Break"
   ]
  },
  {
   "cell_type": "code",
   "execution_count": 12,
   "id": "3a4b33ec",
   "metadata": {},
   "outputs": [],
   "source": [
    "# PASS: No hace nada\n",
    "def cociente(x, y):\n",
    "    try:\n",
    "        resultado = x//y\n",
    "    except ZeroDivisionError:\n",
    "        pass"
   ]
  },
  {
   "cell_type": "code",
   "execution_count": 13,
   "id": "66354093",
   "metadata": {},
   "outputs": [],
   "source": [
    "cociente(7, 0)"
   ]
  },
  {
   "cell_type": "code",
   "execution_count": 15,
   "id": "09be3ca2",
   "metadata": {},
   "outputs": [
    {
     "name": "stdout",
     "output_type": "stream",
     "text": [
      "El numero es: 0\n",
      "El numero es: 1\n",
      "El numero es: 2\n",
      "El numero es: 3\n",
      "El numero es: 4\n",
      "Se termino el for\n"
     ]
    }
   ],
   "source": [
    "for numero in range(5):\n",
    "    if numero==2:\n",
    "        pass\n",
    "    print('El numero es: '+str(numero))\n",
    "\n",
    "print('Se termino el for')"
   ]
  },
  {
   "cell_type": "code",
   "execution_count": 16,
   "id": "3cb1ba9e",
   "metadata": {},
   "outputs": [
    {
     "name": "stdout",
     "output_type": "stream",
     "text": [
      "El numero es: 0\n",
      "El numero es: 1\n",
      "Se termino el for\n"
     ]
    }
   ],
   "source": [
    "# Break\n",
    "for numero in range(5):\n",
    "    if numero==2:\n",
    "        break\n",
    "    print('El numero es: '+str(numero))\n",
    "\n",
    "print('Se termino el for')"
   ]
  },
  {
   "cell_type": "code",
   "execution_count": 17,
   "id": "ec552a6d",
   "metadata": {},
   "outputs": [
    {
     "name": "stdout",
     "output_type": "stream",
     "text": [
      "El numero es: 0\n",
      "El numero es: 1\n",
      "El numero es: 3\n",
      "El numero es: 4\n",
      "Se termino el for\n"
     ]
    }
   ],
   "source": [
    "# Continue\n",
    "for numero in range(5):\n",
    "    if numero==2:\n",
    "        continue\n",
    "    print('El numero es: '+str(numero))\n",
    "\n",
    "print('Se termino el for')"
   ]
  },
  {
   "cell_type": "markdown",
   "id": "8110ef26",
   "metadata": {},
   "source": [
    "## 4. Fechas"
   ]
  },
  {
   "cell_type": "code",
   "execution_count": null,
   "id": "95d09b26",
   "metadata": {},
   "outputs": [],
   "source": [
    "#Trabajando con librerias necesarias\n",
    "from datetime import datetime, date, timedelta"
   ]
  },
  {
   "cell_type": "code",
   "execution_count": 19,
   "id": "4b54b97c",
   "metadata": {},
   "outputs": [
    {
     "name": "stdout",
     "output_type": "stream",
     "text": [
      "2025-10-10\n"
     ]
    }
   ],
   "source": [
    "# Fecha actual\n",
    "fecha_hoy=date.today()\n",
    "print(fecha_hoy)"
   ]
  },
  {
   "cell_type": "code",
   "execution_count": 20,
   "id": "4f0fe486",
   "metadata": {},
   "outputs": [
    {
     "name": "stdout",
     "output_type": "stream",
     "text": [
      "2025-10-10 09:54:04.129208\n"
     ]
    }
   ],
   "source": [
    "# Fecha y hora actual\n",
    "fechayhora= datetime.now()\n",
    "print(fechayhora)"
   ]
  },
  {
   "cell_type": "code",
   "execution_count": 24,
   "id": "86cb4e70",
   "metadata": {},
   "outputs": [
    {
     "name": "stdout",
     "output_type": "stream",
     "text": [
      "2025-10-10 09:58:16.681030-05:00\n"
     ]
    }
   ],
   "source": [
    "# Zona horario -> Peru\n",
    "#pip install pytz\n",
    "import pytz\n",
    "\n",
    "peru_tz=pytz.timezone(\"America/Lima\")\n",
    "print(datetime.now(peru_tz))"
   ]
  }
 ],
 "metadata": {
  "kernelspec": {
   "display_name": "myenv",
   "language": "python",
   "name": "python3"
  },
  "language_info": {
   "codemirror_mode": {
    "name": "ipython",
    "version": 3
   },
   "file_extension": ".py",
   "mimetype": "text/x-python",
   "name": "python",
   "nbconvert_exporter": "python",
   "pygments_lexer": "ipython3",
   "version": "3.13.7"
  }
 },
 "nbformat": 4,
 "nbformat_minor": 5
}
