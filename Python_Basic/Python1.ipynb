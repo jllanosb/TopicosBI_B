{
 "cells": [
  {
   "cell_type": "markdown",
   "id": "38bcf4fd",
   "metadata": {},
   "source": [
    "# Python for Big Data\n",
    "### Summary\n",
    "1. Variables\n",
    "2. String\n",
    "3. Function Print\n",
    "4. Booleanos\n",
    "5. Loops\n",
    "6. Funciones\n",
    "7. Manejo de Excepciones"
   ]
  },
  {
   "cell_type": "markdown",
   "id": "fe916450",
   "metadata": {},
   "source": [
    "# 1. Variables"
   ]
  },
  {
   "cell_type": "code",
   "execution_count": 1,
   "id": "1b136b5e",
   "metadata": {},
   "outputs": [
    {
     "ename": "NameError",
     "evalue": "name 'resultado' is not defined",
     "output_type": "error",
     "traceback": [
      "\u001b[31m---------------------------------------------------------------------------\u001b[39m",
      "\u001b[31mNameError\u001b[39m                                 Traceback (most recent call last)",
      "\u001b[36mCell\u001b[39m\u001b[36m \u001b[39m\u001b[32mIn[1]\u001b[39m\u001b[32m, line 2\u001b[39m\n\u001b[32m      1\u001b[39m \u001b[38;5;66;03m# Variables\u001b[39;00m\n\u001b[32m----> \u001b[39m\u001b[32m2\u001b[39m \u001b[43mresultado\u001b[49m\n",
      "\u001b[31mNameError\u001b[39m: name 'resultado' is not defined"
     ]
    }
   ],
   "source": [
    "# Variables\n",
    "resultado"
   ]
  },
  {
   "cell_type": "code",
   "execution_count": 3,
   "id": "d5d89719",
   "metadata": {},
   "outputs": [],
   "source": [
    "# Declarando variables\n",
    "edad_persona = 18\n",
    "estado = \"Si\""
   ]
  },
  {
   "cell_type": "code",
   "execution_count": 4,
   "id": "c34cfc7b",
   "metadata": {},
   "outputs": [
    {
     "data": {
      "text/plain": [
       "18"
      ]
     },
     "execution_count": 4,
     "metadata": {},
     "output_type": "execute_result"
    }
   ],
   "source": [
    "edad_persona"
   ]
  },
  {
   "cell_type": "code",
   "execution_count": 5,
   "id": "81c3800b",
   "metadata": {},
   "outputs": [
    {
     "data": {
      "text/plain": [
       "'Si'"
      ]
     },
     "execution_count": 5,
     "metadata": {},
     "output_type": "execute_result"
    }
   ],
   "source": [
    "estado"
   ]
  },
  {
   "cell_type": "code",
   "execution_count": null,
   "id": "c7496be7",
   "metadata": {},
   "outputs": [],
   "source": [
    "# Interactuando con el Usuario\n",
    "monto_interes = int(input(\"Ingrese el interes: \"))"
   ]
  },
  {
   "cell_type": "code",
   "execution_count": 6,
   "id": "07ee5bdb",
   "metadata": {},
   "outputs": [],
   "source": [
    "# Operando con una variable\n",
    "resultado = edad_persona * 10"
   ]
  },
  {
   "cell_type": "code",
   "execution_count": 8,
   "id": "1442b840",
   "metadata": {},
   "outputs": [
    {
     "data": {
      "text/plain": [
       "180"
      ]
     },
     "execution_count": 8,
     "metadata": {},
     "output_type": "execute_result"
    }
   ],
   "source": [
    "# Mostrar Variable\n",
    "resultado"
   ]
  },
  {
   "cell_type": "code",
   "execution_count": 9,
   "id": "34a47fa7",
   "metadata": {},
   "outputs": [
    {
     "data": {
      "text/plain": [
       "int"
      ]
     },
     "execution_count": 9,
     "metadata": {},
     "output_type": "execute_result"
    }
   ],
   "source": [
    "# Conocer tipo de variable\n",
    "type(resultado)"
   ]
  },
  {
   "cell_type": "code",
   "execution_count": 10,
   "id": "872774e3",
   "metadata": {},
   "outputs": [
    {
     "data": {
      "text/plain": [
       "str"
      ]
     },
     "execution_count": 10,
     "metadata": {},
     "output_type": "execute_result"
    }
   ],
   "source": [
    "type(estado)"
   ]
  },
  {
   "cell_type": "code",
   "execution_count": 11,
   "id": "f1ad76af",
   "metadata": {},
   "outputs": [
    {
     "data": {
      "text/plain": [
       "4500"
      ]
     },
     "execution_count": 11,
     "metadata": {},
     "output_type": "execute_result"
    }
   ],
   "source": [
    "# Operando variable\n",
    "25*resultado"
   ]
  },
  {
   "cell_type": "code",
   "execution_count": 13,
   "id": "8f7b60cc",
   "metadata": {},
   "outputs": [
    {
     "data": {
      "text/plain": [
       "'180'"
      ]
     },
     "execution_count": 13,
     "metadata": {},
     "output_type": "execute_result"
    }
   ],
   "source": [
    "# Cambiando tipo de variable\n",
    "str_resultado = str(resultado)\n",
    "str_resultado"
   ]
  },
  {
   "cell_type": "code",
   "execution_count": 14,
   "id": "6371aa83",
   "metadata": {},
   "outputs": [
    {
     "data": {
      "text/plain": [
       "180"
      ]
     },
     "execution_count": 14,
     "metadata": {},
     "output_type": "execute_result"
    }
   ],
   "source": [
    "int_resultado = int(str_resultado)\n",
    "int_resultado"
   ]
  },
  {
   "cell_type": "markdown",
   "id": "da892ee1",
   "metadata": {},
   "source": [
    "# 2. String"
   ]
  },
  {
   "cell_type": "code",
   "execution_count": 15,
   "id": "9d0bbf0d",
   "metadata": {},
   "outputs": [
    {
     "data": {
      "text/plain": [
       "'ab'"
      ]
     },
     "execution_count": 15,
     "metadata": {},
     "output_type": "execute_result"
    }
   ],
   "source": [
    "# Concatenar String\n",
    "\"a\" + \"b\""
   ]
  },
  {
   "cell_type": "code",
   "execution_count": 16,
   "id": "88010396",
   "metadata": {},
   "outputs": [],
   "source": [
    "# Comillas simples o dobles\n",
    "text_1 = \"Mi primer texto\"\n",
    "text_2 = 'Mi segundo texto'"
   ]
  },
  {
   "cell_type": "code",
   "execution_count": 18,
   "id": "84d0e075",
   "metadata": {},
   "outputs": [
    {
     "data": {
      "text/plain": [
       "'Mi primer texto'"
      ]
     },
     "execution_count": 18,
     "metadata": {},
     "output_type": "execute_result"
    }
   ],
   "source": [
    "text_1"
   ]
  },
  {
   "cell_type": "code",
   "execution_count": 19,
   "id": "925ffa39",
   "metadata": {},
   "outputs": [
    {
     "data": {
      "text/plain": [
       "'Mi segundo texto'"
      ]
     },
     "execution_count": 19,
     "metadata": {},
     "output_type": "execute_result"
    }
   ],
   "source": [
    "text_2"
   ]
  },
  {
   "cell_type": "code",
   "execution_count": 20,
   "id": "466e128f",
   "metadata": {},
   "outputs": [
    {
     "data": {
      "text/plain": [
       "' \\nSelect * From Usuarios\\nWhere id=25\\nGroup By año\\n'"
      ]
     },
     "execution_count": 20,
     "metadata": {},
     "output_type": "execute_result"
    }
   ],
   "source": [
    "# Comillas triple\n",
    "text_3 = \"\"\" \n",
    "Select * From Usuarios\n",
    "Where id=25\n",
    "Group By año\n",
    "\"\"\"\n",
    "text_3"
   ]
  },
  {
   "cell_type": "code",
   "execution_count": 21,
   "id": "6c558288",
   "metadata": {},
   "outputs": [],
   "source": [
    "# Operaciones con String\n",
    "text_1 = 'Hello World'\n",
    "text_2 = '5'\n",
    "text_3 = 'cinco'"
   ]
  },
  {
   "cell_type": "code",
   "execution_count": 23,
   "id": "cd9002c4",
   "metadata": {},
   "outputs": [
    {
     "data": {
      "text/plain": [
       "'Hello world'"
      ]
     },
     "execution_count": 23,
     "metadata": {},
     "output_type": "execute_result"
    }
   ],
   "source": [
    "text_1.capitalize()"
   ]
  },
  {
   "cell_type": "code",
   "execution_count": 24,
   "id": "abb6f276",
   "metadata": {},
   "outputs": [
    {
     "data": {
      "text/plain": [
       "'CINCO'"
      ]
     },
     "execution_count": 24,
     "metadata": {},
     "output_type": "execute_result"
    }
   ],
   "source": [
    "text_3.upper()"
   ]
  }
 ],
 "metadata": {
  "kernelspec": {
   "display_name": "myenv",
   "language": "python",
   "name": "python3"
  },
  "language_info": {
   "codemirror_mode": {
    "name": "ipython",
    "version": 3
   },
   "file_extension": ".py",
   "mimetype": "text/x-python",
   "name": "python",
   "nbconvert_exporter": "python",
   "pygments_lexer": "ipython3",
   "version": "3.13.7"
  }
 },
 "nbformat": 4,
 "nbformat_minor": 5
}
