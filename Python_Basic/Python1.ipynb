{
 "cells": [
  {
   "cell_type": "markdown",
   "id": "38bcf4fd",
   "metadata": {},
   "source": [
    "# Python for Big Data\n",
    "### Summary\n",
    "1. Variables\n",
    "2. String\n",
    "3. Function Print\n",
    "4. Booleanos\n",
    "5. Loops\n",
    "6. Funciones\n",
    "7. Manejo de Excepciones"
   ]
  },
  {
   "cell_type": "markdown",
   "id": "fe916450",
   "metadata": {},
   "source": [
    "# 1. Variables"
   ]
  },
  {
   "cell_type": "code",
   "execution_count": 6,
   "id": "1b136b5e",
   "metadata": {},
   "outputs": [
    {
     "ename": "NameError",
     "evalue": "name 'resultado' is not defined",
     "output_type": "error",
     "traceback": [
      "\u001b[31m---------------------------------------------------------------------------\u001b[39m",
      "\u001b[31mNameError\u001b[39m                                 Traceback (most recent call last)",
      "\u001b[36mCell\u001b[39m\u001b[36m \u001b[39m\u001b[32mIn[6]\u001b[39m\u001b[32m, line 2\u001b[39m\n\u001b[32m      1\u001b[39m \u001b[38;5;66;03m# Variables\u001b[39;00m\n\u001b[32m----> \u001b[39m\u001b[32m2\u001b[39m \u001b[43mresultado\u001b[49m\n",
      "\u001b[31mNameError\u001b[39m: name 'resultado' is not defined"
     ]
    }
   ],
   "source": [
    "# Variables\n",
    "resultado"
   ]
  },
  {
   "cell_type": "code",
   "execution_count": null,
   "id": "d5d89719",
   "metadata": {},
   "outputs": [],
   "source": [
    "# Declarando variables\n",
    "edad_persona = 18\n",
    "estado = \"Si\""
   ]
  },
  {
   "cell_type": "code",
   "execution_count": null,
   "id": "c34cfc7b",
   "metadata": {},
   "outputs": [
    {
     "data": {
      "text/plain": [
       "18"
      ]
     },
     "execution_count": 4,
     "metadata": {},
     "output_type": "execute_result"
    }
   ],
   "source": [
    "edad_persona"
   ]
  },
  {
   "cell_type": "code",
   "execution_count": null,
   "id": "81c3800b",
   "metadata": {},
   "outputs": [
    {
     "data": {
      "text/plain": [
       "'Si'"
      ]
     },
     "execution_count": 5,
     "metadata": {},
     "output_type": "execute_result"
    }
   ],
   "source": [
    "estado"
   ]
  },
  {
   "cell_type": "code",
   "execution_count": null,
   "id": "c7496be7",
   "metadata": {},
   "outputs": [],
   "source": [
    "# Interactuando con el Usuario\n",
    "monto_interes = int(input(\"Ingrese el interes: \"))"
   ]
  },
  {
   "cell_type": "code",
   "execution_count": null,
   "id": "07ee5bdb",
   "metadata": {},
   "outputs": [],
   "source": [
    "# Operando con una variable\n",
    "resultado = edad_persona * 10"
   ]
  },
  {
   "cell_type": "code",
   "execution_count": null,
   "id": "1442b840",
   "metadata": {},
   "outputs": [
    {
     "data": {
      "text/plain": [
       "180"
      ]
     },
     "execution_count": 8,
     "metadata": {},
     "output_type": "execute_result"
    }
   ],
   "source": [
    "# Mostrar Variable\n",
    "resultado"
   ]
  },
  {
   "cell_type": "code",
   "execution_count": null,
   "id": "34a47fa7",
   "metadata": {},
   "outputs": [
    {
     "data": {
      "text/plain": [
       "int"
      ]
     },
     "execution_count": 9,
     "metadata": {},
     "output_type": "execute_result"
    }
   ],
   "source": [
    "# Conocer tipo de variable\n",
    "type(resultado)"
   ]
  },
  {
   "cell_type": "code",
   "execution_count": null,
   "id": "872774e3",
   "metadata": {},
   "outputs": [
    {
     "data": {
      "text/plain": [
       "str"
      ]
     },
     "execution_count": 10,
     "metadata": {},
     "output_type": "execute_result"
    }
   ],
   "source": [
    "type(estado)"
   ]
  },
  {
   "cell_type": "code",
   "execution_count": null,
   "id": "f1ad76af",
   "metadata": {},
   "outputs": [
    {
     "data": {
      "text/plain": [
       "4500"
      ]
     },
     "execution_count": 11,
     "metadata": {},
     "output_type": "execute_result"
    }
   ],
   "source": [
    "# Operando variable\n",
    "25*resultado"
   ]
  },
  {
   "cell_type": "code",
   "execution_count": null,
   "id": "8f7b60cc",
   "metadata": {},
   "outputs": [
    {
     "data": {
      "text/plain": [
       "'180'"
      ]
     },
     "execution_count": 13,
     "metadata": {},
     "output_type": "execute_result"
    }
   ],
   "source": [
    "# Cambiando tipo de variable\n",
    "str_resultado = str(resultado)\n",
    "str_resultado"
   ]
  },
  {
   "cell_type": "code",
   "execution_count": null,
   "id": "6371aa83",
   "metadata": {},
   "outputs": [
    {
     "data": {
      "text/plain": [
       "180"
      ]
     },
     "execution_count": 14,
     "metadata": {},
     "output_type": "execute_result"
    }
   ],
   "source": [
    "int_resultado = int(str_resultado)\n",
    "int_resultado"
   ]
  },
  {
   "cell_type": "markdown",
   "id": "da892ee1",
   "metadata": {},
   "source": [
    "# 2. String"
   ]
  },
  {
   "cell_type": "code",
   "execution_count": null,
   "id": "9d0bbf0d",
   "metadata": {},
   "outputs": [
    {
     "data": {
      "text/plain": [
       "'ab'"
      ]
     },
     "execution_count": 15,
     "metadata": {},
     "output_type": "execute_result"
    }
   ],
   "source": [
    "# Concatenar String\n",
    "\"a\" + \"b\""
   ]
  },
  {
   "cell_type": "code",
   "execution_count": null,
   "id": "88010396",
   "metadata": {},
   "outputs": [],
   "source": [
    "# Comillas simples o dobles\n",
    "text_1 = \"Mi primer texto\"\n",
    "text_2 = 'Mi segundo texto'"
   ]
  },
  {
   "cell_type": "code",
   "execution_count": null,
   "id": "84d0e075",
   "metadata": {},
   "outputs": [
    {
     "data": {
      "text/plain": [
       "'Mi primer texto'"
      ]
     },
     "execution_count": 18,
     "metadata": {},
     "output_type": "execute_result"
    }
   ],
   "source": [
    "text_1"
   ]
  },
  {
   "cell_type": "code",
   "execution_count": null,
   "id": "925ffa39",
   "metadata": {},
   "outputs": [
    {
     "data": {
      "text/plain": [
       "'Mi segundo texto'"
      ]
     },
     "execution_count": 19,
     "metadata": {},
     "output_type": "execute_result"
    }
   ],
   "source": [
    "text_2"
   ]
  },
  {
   "cell_type": "code",
   "execution_count": null,
   "id": "466e128f",
   "metadata": {},
   "outputs": [
    {
     "data": {
      "text/plain": [
       "' \\nSelect * From Usuarios\\nWhere id=25\\nGroup By año\\n'"
      ]
     },
     "execution_count": 20,
     "metadata": {},
     "output_type": "execute_result"
    }
   ],
   "source": [
    "# Comillas triple\n",
    "text_3 = \"\"\" \n",
    "Select * From Usuarios\n",
    "Where id=25\n",
    "Group By año\n",
    "\"\"\"\n",
    "text_3"
   ]
  },
  {
   "cell_type": "code",
   "execution_count": null,
   "id": "6c558288",
   "metadata": {},
   "outputs": [],
   "source": [
    "# Operaciones con String\n",
    "text_1 = 'Hello World'\n",
    "text_2 = '5'\n",
    "text_3 = 'cinco'"
   ]
  },
  {
   "cell_type": "code",
   "execution_count": null,
   "id": "cd9002c4",
   "metadata": {},
   "outputs": [
    {
     "data": {
      "text/plain": [
       "'Hello world'"
      ]
     },
     "execution_count": 23,
     "metadata": {},
     "output_type": "execute_result"
    }
   ],
   "source": [
    "text_1.capitalize()"
   ]
  },
  {
   "cell_type": "code",
   "execution_count": null,
   "id": "abb6f276",
   "metadata": {},
   "outputs": [
    {
     "data": {
      "text/plain": [
       "'CINCO'"
      ]
     },
     "execution_count": 24,
     "metadata": {},
     "output_type": "execute_result"
    }
   ],
   "source": [
    "text_3.upper()"
   ]
  },
  {
   "cell_type": "code",
   "execution_count": null,
   "id": "1bd3711c",
   "metadata": {},
   "outputs": [
    {
     "data": {
      "text/plain": [
       "'cinco'"
      ]
     },
     "execution_count": 25,
     "metadata": {},
     "output_type": "execute_result"
    }
   ],
   "source": [
    "text_3.lower()"
   ]
  },
  {
   "cell_type": "code",
   "execution_count": null,
   "id": "547b6b75",
   "metadata": {},
   "outputs": [
    {
     "data": {
      "text/plain": [
       "'hello world'"
      ]
     },
     "execution_count": 27,
     "metadata": {},
     "output_type": "execute_result"
    }
   ],
   "source": [
    "text_1.lower()"
   ]
  },
  {
   "cell_type": "code",
   "execution_count": null,
   "id": "7f3e11e8",
   "metadata": {},
   "outputs": [
    {
     "data": {
      "text/plain": [
       "'Hello World'"
      ]
     },
     "execution_count": 28,
     "metadata": {},
     "output_type": "execute_result"
    }
   ],
   "source": [
    "text_1.title()"
   ]
  },
  {
   "cell_type": "code",
   "execution_count": 7,
   "id": "db3b3517",
   "metadata": {},
   "outputs": [
    {
     "ename": "NameError",
     "evalue": "name 'text_1' is not defined",
     "output_type": "error",
     "traceback": [
      "\u001b[31m---------------------------------------------------------------------------\u001b[39m",
      "\u001b[31mNameError\u001b[39m                                 Traceback (most recent call last)",
      "\u001b[36mCell\u001b[39m\u001b[36m \u001b[39m\u001b[32mIn[7]\u001b[39m\u001b[32m, line 1\u001b[39m\n\u001b[32m----> \u001b[39m\u001b[32m1\u001b[39m \u001b[43mtext_1\u001b[49m.count(\u001b[33m'\u001b[39m\u001b[33ml\u001b[39m\u001b[33m'\u001b[39m)\n",
      "\u001b[31mNameError\u001b[39m: name 'text_1' is not defined"
     ]
    }
   ],
   "source": [
    "text_1.count('l')"
   ]
  },
  {
   "cell_type": "code",
   "execution_count": null,
   "id": "03b7f429",
   "metadata": {},
   "outputs": [
    {
     "data": {
      "text/plain": [
       "11"
      ]
     },
     "execution_count": 31,
     "metadata": {},
     "output_type": "execute_result"
    }
   ],
   "source": [
    "# longitud cadena\n",
    "len(text_1)"
   ]
  },
  {
   "cell_type": "code",
   "execution_count": null,
   "id": "84e2b582",
   "metadata": {},
   "outputs": [
    {
     "data": {
      "text/plain": [
       "['Hello', 'World']"
      ]
     },
     "execution_count": 32,
     "metadata": {},
     "output_type": "execute_result"
    }
   ],
   "source": [
    "# Dividir texto\n",
    "text_1.split()"
   ]
  },
  {
   "cell_type": "code",
   "execution_count": null,
   "id": "f03d7f8d",
   "metadata": {},
   "outputs": [
    {
     "ename": "NameError",
     "evalue": "name 'text_1' is not defined",
     "output_type": "error",
     "traceback": [
      "\u001b[31m---------------------------------------------------------------------------\u001b[39m",
      "\u001b[31mNameError\u001b[39m                                 Traceback (most recent call last)",
      "\u001b[36mCell\u001b[39m\u001b[36m \u001b[39m\u001b[32mIn[5]\u001b[39m\u001b[32m, line 1\u001b[39m\n\u001b[32m----> \u001b[39m\u001b[32m1\u001b[39m \u001b[43mtext_1\u001b[49m.split(\u001b[33m'\u001b[39m\u001b[33mW\u001b[39m\u001b[33m'\u001b[39m)\n",
      "\u001b[31mNameError\u001b[39m: name 'text_1' is not defined"
     ]
    }
   ],
   "source": [
    "text_1.split('W')"
   ]
  },
  {
   "cell_type": "code",
   "execution_count": 8,
   "id": "29761b24",
   "metadata": {},
   "outputs": [
    {
     "data": {
      "text/plain": [
       "'(hello wordl),'"
      ]
     },
     "execution_count": 8,
     "metadata": {},
     "output_type": "execute_result"
    }
   ],
   "source": [
    "# Limpiando extremo string\n",
    "text_4 = '(hello wordl), '\n",
    "text_4.strip()"
   ]
  },
  {
   "cell_type": "code",
   "execution_count": null,
   "id": "9b4f227b",
   "metadata": {},
   "outputs": [
    {
     "data": {
      "text/plain": [
       "'hello wordl'"
      ]
     },
     "execution_count": 36,
     "metadata": {},
     "output_type": "execute_result"
    }
   ],
   "source": [
    "text_4.strip('(), ')"
   ]
  },
  {
   "cell_type": "code",
   "execution_count": 10,
   "id": "89489a48",
   "metadata": {},
   "outputs": [
    {
     "data": {
      "text/plain": [
       "'Hi Wordl'"
      ]
     },
     "execution_count": 10,
     "metadata": {},
     "output_type": "execute_result"
    }
   ],
   "source": [
    "# Reemplazando String\n",
    "text_5= 'Hello Wordl'\n",
    "text_5.replace('Hello', 'Hi')"
   ]
  },
  {
   "cell_type": "code",
   "execution_count": 11,
   "id": "8d98d71e",
   "metadata": {},
   "outputs": [
    {
     "data": {
      "text/plain": [
       "4"
      ]
     },
     "execution_count": 11,
     "metadata": {},
     "output_type": "execute_result"
    }
   ],
   "source": [
    "#Encontrar posicion String\n",
    "text_5.index('o')"
   ]
  },
  {
   "cell_type": "code",
   "execution_count": 12,
   "id": "963aaa6e",
   "metadata": {},
   "outputs": [
    {
     "data": {
      "text/plain": [
       "7"
      ]
     },
     "execution_count": 12,
     "metadata": {},
     "output_type": "execute_result"
    }
   ],
   "source": [
    "text_5.index('o', 6)"
   ]
  },
  {
   "cell_type": "code",
   "execution_count": 13,
   "id": "e30f1da1",
   "metadata": {},
   "outputs": [
    {
     "data": {
      "text/plain": [
       "'H'"
      ]
     },
     "execution_count": 13,
     "metadata": {},
     "output_type": "execute_result"
    }
   ],
   "source": [
    "# Parte un string\n",
    "text_5[0]"
   ]
  },
  {
   "cell_type": "code",
   "execution_count": 14,
   "id": "7d8f413e",
   "metadata": {},
   "outputs": [
    {
     "data": {
      "text/plain": [
       "'d'"
      ]
     },
     "execution_count": 14,
     "metadata": {},
     "output_type": "execute_result"
    }
   ],
   "source": [
    "text_5[-2]"
   ]
  },
  {
   "cell_type": "code",
   "execution_count": 15,
   "id": "4b7fc924",
   "metadata": {},
   "outputs": [
    {
     "data": {
      "text/plain": [
       "'o Word'"
      ]
     },
     "execution_count": 15,
     "metadata": {},
     "output_type": "execute_result"
    }
   ],
   "source": [
    "text_5[4:-1]"
   ]
  },
  {
   "cell_type": "code",
   "execution_count": 17,
   "id": "2db8b3a9",
   "metadata": {},
   "outputs": [
    {
     "data": {
      "text/plain": [
       "'ldroW olleH'"
      ]
     },
     "execution_count": 17,
     "metadata": {},
     "output_type": "execute_result"
    }
   ],
   "source": [
    "# Invertir string\n",
    "text_5[::-1]"
   ]
  },
  {
   "cell_type": "code",
   "execution_count": 18,
   "id": "7556160a",
   "metadata": {},
   "outputs": [
    {
     "data": {
      "text/plain": [
       "'olleH'"
      ]
     },
     "execution_count": 18,
     "metadata": {},
     "output_type": "execute_result"
    }
   ],
   "source": [
    "text_5[4::-1]"
   ]
  },
  {
   "cell_type": "code",
   "execution_count": 21,
   "id": "b57f79fb",
   "metadata": {},
   "outputs": [
    {
     "data": {
      "text/plain": [
       "['HELLO', 'WORDL']"
      ]
     },
     "execution_count": 21,
     "metadata": {},
     "output_type": "execute_result"
    }
   ],
   "source": [
    "# Llamada a una cadena\n",
    "text_4.strip('(), ').upper().split()"
   ]
  },
  {
   "cell_type": "code",
   "execution_count": 22,
   "id": "c2a343a4",
   "metadata": {},
   "outputs": [
    {
     "data": {
      "text/plain": [
       "'Hola Jaime, este es el curso Topicos Especiales BI'"
      ]
     },
     "execution_count": 22,
     "metadata": {},
     "output_type": "execute_result"
    }
   ],
   "source": [
    "# python f-string\n",
    "nombre = 'Jaime'\n",
    "curso = 'Topicos Especiales BI'\n",
    "f'Hola {nombre}, este es el curso {curso}'"
   ]
  },
  {
   "cell_type": "code",
   "execution_count": 24,
   "id": "e9f76a4f",
   "metadata": {},
   "outputs": [],
   "source": [
    "# Otras operacion string\n",
    "string_1 = 'hello wordl'\n",
    "string_2 = '5'\n",
    "string_3 = 'cinco'"
   ]
  },
  {
   "cell_type": "code",
   "execution_count": 25,
   "id": "8f9f501c",
   "metadata": {},
   "outputs": [
    {
     "data": {
      "text/plain": [
       "False"
      ]
     },
     "execution_count": 25,
     "metadata": {},
     "output_type": "execute_result"
    }
   ],
   "source": [
    "string_1.isdigit()"
   ]
  },
  {
   "cell_type": "code",
   "execution_count": 26,
   "id": "55f70eb7",
   "metadata": {},
   "outputs": [
    {
     "data": {
      "text/plain": [
       "True"
      ]
     },
     "execution_count": 26,
     "metadata": {},
     "output_type": "execute_result"
    }
   ],
   "source": [
    "string_2.isdigit()"
   ]
  },
  {
   "cell_type": "code",
   "execution_count": 27,
   "id": "8ca384ea",
   "metadata": {},
   "outputs": [
    {
     "data": {
      "text/plain": [
       "False"
      ]
     },
     "execution_count": 27,
     "metadata": {},
     "output_type": "execute_result"
    }
   ],
   "source": [
    "string_1.isalpha()"
   ]
  },
  {
   "cell_type": "code",
   "execution_count": 28,
   "id": "c7dae0ec",
   "metadata": {},
   "outputs": [
    {
     "data": {
      "text/plain": [
       "True"
      ]
     },
     "execution_count": 28,
     "metadata": {},
     "output_type": "execute_result"
    }
   ],
   "source": [
    "string_3.isalpha()"
   ]
  },
  {
   "cell_type": "code",
   "execution_count": 29,
   "id": "cc5e88ca",
   "metadata": {},
   "outputs": [
    {
     "data": {
      "text/plain": [
       "'abcdefghijklmnopqrstuvwxyz'"
      ]
     },
     "execution_count": 29,
     "metadata": {},
     "output_type": "execute_result"
    }
   ],
   "source": [
    "import string\n",
    "string.ascii_lowercase"
   ]
  },
  {
   "cell_type": "code",
   "execution_count": 30,
   "id": "e9e4eda7",
   "metadata": {},
   "outputs": [
    {
     "data": {
      "text/plain": [
       "'ABCDEFGHIJKLMNOPQRSTUVWXYZ'"
      ]
     },
     "execution_count": 30,
     "metadata": {},
     "output_type": "execute_result"
    }
   ],
   "source": [
    "string.ascii_uppercase"
   ]
  },
  {
   "cell_type": "code",
   "execution_count": 31,
   "id": "d5187c48",
   "metadata": {},
   "outputs": [
    {
     "data": {
      "text/plain": [
       "'abcdefghijklmnopqrstuvwxyzABCDEFGHIJKLMNOPQRSTUVWXYZ'"
      ]
     },
     "execution_count": 31,
     "metadata": {},
     "output_type": "execute_result"
    }
   ],
   "source": [
    "string.ascii_letters"
   ]
  },
  {
   "cell_type": "code",
   "execution_count": 32,
   "id": "6218943e",
   "metadata": {},
   "outputs": [
    {
     "data": {
      "text/plain": [
       "False"
      ]
     },
     "execution_count": 32,
     "metadata": {},
     "output_type": "execute_result"
    }
   ],
   "source": [
    "string_1.isalnum()"
   ]
  },
  {
   "cell_type": "code",
   "execution_count": 33,
   "id": "25390291",
   "metadata": {},
   "outputs": [
    {
     "data": {
      "text/plain": [
       "True"
      ]
     },
     "execution_count": 33,
     "metadata": {},
     "output_type": "execute_result"
    }
   ],
   "source": [
    "string_2.isalnum()"
   ]
  },
  {
   "cell_type": "markdown",
   "id": "387072ef",
   "metadata": {},
   "source": [
    "# 3. Funcion Print"
   ]
  },
  {
   "cell_type": "code",
   "execution_count": 34,
   "id": "6157cd2c",
   "metadata": {},
   "outputs": [
    {
     "name": "stdout",
     "output_type": "stream",
     "text": [
      "cinco\n"
     ]
    }
   ],
   "source": [
    "print(string_3)"
   ]
  },
  {
   "cell_type": "code",
   "execution_count": 35,
   "id": "536fab40",
   "metadata": {},
   "outputs": [
    {
     "name": "stdout",
     "output_type": "stream",
     "text": [
      "<class 'str'>\n"
     ]
    }
   ],
   "source": [
    "# saber tipo dato\n",
    "print(type(string_3))\n"
   ]
  },
  {
   "cell_type": "code",
   "execution_count": 36,
   "id": "5dfc0ac7",
   "metadata": {},
   "outputs": [
    {
     "name": "stdout",
     "output_type": "stream",
     "text": [
      "<class 'int'>\n"
     ]
    }
   ],
   "source": [
    "print(type(7))"
   ]
  },
  {
   "cell_type": "code",
   "execution_count": 37,
   "id": "c0a08bdf",
   "metadata": {},
   "outputs": [
    {
     "name": "stdout",
     "output_type": "stream",
     "text": [
      "Mi nombre es: Jaime\n",
      "Mi nombre es: Jaime\n"
     ]
    }
   ],
   "source": [
    "print(\"Mi nombre es:\", nombre)\n",
    "print(f'Mi nombre es: {nombre}')"
   ]
  },
  {
   "cell_type": "code",
   "execution_count": 39,
   "id": "620a8a2f",
   "metadata": {},
   "outputs": [
    {
     "name": "stdout",
     "output_type": "stream",
     "text": [
      "Los datos de curso son: \n",
      "Nombre \t\t: Topicos Especiales BI\n",
      "Ciclo \t\t: Sexto\n",
      "Tipo curso \t: Electivo\n"
     ]
    }
   ],
   "source": [
    "print(\"Los datos de curso son: \\nNombre \\t\\t: Topicos Especiales BI\\nCiclo \\t\\t: Sexto\\nTipo curso \\t: Electivo\")"
   ]
  },
  {
   "cell_type": "code",
   "execution_count": 40,
   "id": "e9ee6cd6",
   "metadata": {},
   "outputs": [
    {
     "name": "stdout",
     "output_type": "stream",
     "text": [
      "Los datos de curso son: \\nNombre \\t\\t: Topicos Especiales BI\\nCiclo \\t\\t: Sexto\\nTipo curso \\t: Electivo\n"
     ]
    }
   ],
   "source": [
    "print(r\"Los datos de curso son: \\nNombre \\t\\t: Topicos Especiales BI\\nCiclo \\t\\t: Sexto\\nTipo curso \\t: Electivo\")"
   ]
  },
  {
   "cell_type": "markdown",
   "id": "1a8b00cd",
   "metadata": {},
   "source": [
    "# 4. Booleanos y condicionales"
   ]
  },
  {
   "cell_type": "code",
   "execution_count": 45,
   "id": "3d9918fb",
   "metadata": {},
   "outputs": [
    {
     "name": "stdout",
     "output_type": "stream",
     "text": [
      "<class 'bool'>\n"
     ]
    }
   ],
   "source": [
    "final_page = False\n",
    "print(type(final_page))"
   ]
  },
  {
   "cell_type": "code",
   "execution_count": 46,
   "id": "39eb1cce",
   "metadata": {},
   "outputs": [
    {
     "name": "stdout",
     "output_type": "stream",
     "text": [
      "Todavia no es el final de la pagina\n"
     ]
    }
   ],
   "source": [
    "if final_page:\n",
    "    print('Final Pagina')\n",
    "else:\n",
    "    print('Todavia no es el final de la pagina')"
   ]
  },
  {
   "cell_type": "code",
   "execution_count": 47,
   "id": "90d3e8bb",
   "metadata": {},
   "outputs": [
    {
     "name": "stdout",
     "output_type": "stream",
     "text": [
      "False\n"
     ]
    }
   ],
   "source": [
    "print(bool())"
   ]
  },
  {
   "cell_type": "code",
   "execution_count": 60,
   "id": "ff6a32ee",
   "metadata": {},
   "outputs": [
    {
     "name": "stdout",
     "output_type": "stream",
     "text": [
      "Booleno para '': False\n",
      "Booleno para ': True\n",
      "Booleno para []: False\n",
      "Booleno para { }: False\n",
      "Booleno para 0: False\n",
      "Booleno para 1: True\n",
      "Booleno para 'Hola': True\n",
      "Booleno para ['Hola']: True\n"
     ]
    }
   ],
   "source": [
    "print(f\"Booleno para '': {bool('')}\")\n",
    "print(f\"Booleno para ': {bool(' ')}\")\n",
    "print(f\"Booleno para []: {bool([])}\")\n",
    "print(f\"Booleno para {'{ }'}: {bool({ })}\")\n",
    "print(f\"Booleno para 0: {bool(0)}\")\n",
    "print(f\"Booleno para 1: {bool(1)}\")\n",
    "print(f\"Booleno para 'Hola': {bool('Hola')}\")\n",
    "print(f\"Booleno para ['Hola']: {bool(['Hola'])}\")"
   ]
  },
  {
   "cell_type": "code",
   "execution_count": 61,
   "id": "3dc4a224",
   "metadata": {},
   "outputs": [
    {
     "data": {
      "text/plain": [
       "False"
      ]
     },
     "execution_count": 61,
     "metadata": {},
     "output_type": "execute_result"
    }
   ],
   "source": [
    "# operadores logicos\n",
    "not True"
   ]
  },
  {
   "cell_type": "code",
   "execution_count": 62,
   "id": "81247e7e",
   "metadata": {},
   "outputs": [
    {
     "data": {
      "text/plain": [
       "True"
      ]
     },
     "execution_count": 62,
     "metadata": {},
     "output_type": "execute_result"
    }
   ],
   "source": [
    "not False"
   ]
  },
  {
   "cell_type": "code",
   "execution_count": 63,
   "id": "9b11e544",
   "metadata": {},
   "outputs": [
    {
     "data": {
      "text/plain": [
       "True"
      ]
     },
     "execution_count": 63,
     "metadata": {},
     "output_type": "execute_result"
    }
   ],
   "source": [
    "True and True"
   ]
  },
  {
   "cell_type": "code",
   "execution_count": 64,
   "id": "380f426f",
   "metadata": {},
   "outputs": [
    {
     "data": {
      "text/plain": [
       "False"
      ]
     },
     "execution_count": 64,
     "metadata": {},
     "output_type": "execute_result"
    }
   ],
   "source": [
    "True and False"
   ]
  },
  {
   "cell_type": "code",
   "execution_count": 65,
   "id": "2a0853fb",
   "metadata": {},
   "outputs": [
    {
     "ename": "TypeError",
     "evalue": "'<' not supported between instances of 'int' and 'str'",
     "output_type": "error",
     "traceback": [
      "\u001b[31m---------------------------------------------------------------------------\u001b[39m",
      "\u001b[31mTypeError\u001b[39m                                 Traceback (most recent call last)",
      "\u001b[36mCell\u001b[39m\u001b[36m \u001b[39m\u001b[32mIn[65]\u001b[39m\u001b[32m, line 2\u001b[39m\n\u001b[32m      1\u001b[39m \u001b[38;5;66;03m# comparando\u001b[39;00m\n\u001b[32m----> \u001b[39m\u001b[32m2\u001b[39m \u001b[32;43m1\u001b[39;49m\u001b[43m \u001b[49m\u001b[43m<\u001b[49m\u001b[43m \u001b[49m\u001b[33;43m'\u001b[39;49m\u001b[33;43muno\u001b[39;49m\u001b[33;43m'\u001b[39;49m\n",
      "\u001b[31mTypeError\u001b[39m: '<' not supported between instances of 'int' and 'str'"
     ]
    }
   ],
   "source": [
    "# comparando\n",
    "1 < 'uno'"
   ]
  },
  {
   "cell_type": "markdown",
   "id": "b2a3df78",
   "metadata": {},
   "source": [
    "# 5. Loops"
   ]
  },
  {
   "cell_type": "code",
   "execution_count": 66,
   "id": "84d14f56",
   "metadata": {},
   "outputs": [
    {
     "name": "stdout",
     "output_type": "stream",
     "text": [
      "H\n",
      "o\n",
      "l\n",
      "a\n"
     ]
    }
   ],
   "source": [
    "# for loops\n",
    "for letra in 'Hola':\n",
    "    print(letra)"
   ]
  },
  {
   "cell_type": "code",
   "execution_count": null,
   "id": "674dd068",
   "metadata": {},
   "outputs": [
    {
     "name": "stdout",
     "output_type": "stream",
     "text": [
      "Palabras: ['Hola', 'a', 'todos']\n"
     ]
    }
   ],
   "source": [
    "my_string = 'Hola a todos'\n",
    "palabras =  my_string.split()\n",
    "print(f'Palabras: {palabras}')"
   ]
  },
  {
   "cell_type": "code",
   "execution_count": 70,
   "id": "8a78faa4",
   "metadata": {},
   "outputs": [
    {
     "name": "stdout",
     "output_type": "stream",
     "text": [
      "Hola\n",
      "a\n",
      "todos\n"
     ]
    }
   ],
   "source": [
    "for palabra in palabras:\n",
    "    print(palabra)"
   ]
  },
  {
   "cell_type": "code",
   "execution_count": null,
   "id": "19338982",
   "metadata": {},
   "outputs": [],
   "source": [
    "# Enumerar en for loop"
   ]
  },
  {
   "cell_type": "code",
   "execution_count": 71,
   "id": "276b0496",
   "metadata": {},
   "outputs": [
    {
     "name": "stdout",
     "output_type": "stream",
     "text": [
      "0 Hola\n",
      "1 a\n",
      "2 todos\n"
     ]
    }
   ],
   "source": [
    "for idx, palabra in enumerate(palabras):\n",
    "    print(idx, palabra)"
   ]
  },
  {
   "cell_type": "code",
   "execution_count": 74,
   "id": "6631fda9",
   "metadata": {},
   "outputs": [
    {
     "name": "stdout",
     "output_type": "stream",
     "text": [
      "1 Hola\n",
      "2 a\n",
      "3 todos\n"
     ]
    }
   ],
   "source": [
    "for idx, palabra in enumerate(palabras, 1):\n",
    "    print(idx, palabra)"
   ]
  },
  {
   "cell_type": "code",
   "execution_count": 76,
   "id": "a61addd9",
   "metadata": {},
   "outputs": [
    {
     "name": "stdout",
     "output_type": "stream",
     "text": [
      "Este es el intento numero 1\n",
      "Este es el intento numero 2\n",
      "Este es el intento numero 3\n",
      "Este es el intento numero 4\n",
      "Este es el intento numero 5\n"
     ]
    }
   ],
   "source": [
    "# While loop\n",
    "max_intentos=5\n",
    "intento =1\n",
    "while intento <= max_intentos:\n",
    "    print(f'Este es el intento numero {intento}')\n",
    "    intento+=1"
   ]
  }
 ],
 "metadata": {
  "kernelspec": {
   "display_name": "myenv",
   "language": "python",
   "name": "python3"
  },
  "language_info": {
   "codemirror_mode": {
    "name": "ipython",
    "version": 3
   },
   "file_extension": ".py",
   "mimetype": "text/x-python",
   "name": "python",
   "nbconvert_exporter": "python",
   "pygments_lexer": "ipython3",
   "version": "3.13.7"
  }
 },
 "nbformat": 4,
 "nbformat_minor": 5
}
